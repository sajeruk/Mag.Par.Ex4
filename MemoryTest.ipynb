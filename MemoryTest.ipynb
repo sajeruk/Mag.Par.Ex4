{
 "cells": [
  {
   "cell_type": "markdown",
   "metadata": {},
   "source": [
    "К сожалению, у меня нет HDD, поэтому тесты связанные с диском проводились на SSD<br>\n",
    "Модель: <b>SAMSUNG SSD SM841 2.5\" 7mm 256GB</b>"
   ]
  },
  {
   "cell_type": "markdown",
   "metadata": {},
   "source": [
    "# Проверка скорости записи на SSD"
   ]
  },
  {
   "cell_type": "markdown",
   "metadata": {},
   "source": [
    "Для такой проверки прекрасно подойдёт утилита <b>dd</b>, запустим такую команду:<br/>\n",
    "&nbsp;&nbsp;&nbsp;&nbsp;<i>dd if=/dev/zero of=/tmp/output bs=1M count=50k conv=fdatasync </i><br/>\n",
    "Т.е. таким образом, мы создадим ~ 50GB файл состоящий из 50тыс блоков по 1Мб. Т.к. чтение происходит из устройства /dev/zero то трата времени на чтение несущественна. Опция <i>conv=fdatasync</i> заставит записать данные напрямую на диск, вместо сохранения во временный RAM буфер, или запись в буфер диска (на самом деле, при таком объёме данных все буферы всё равно переполнятся и будут сбрасываться на физический носитель, но так будет аккуратнее)"
   ]
  },
  {
   "cell_type": "markdown",
   "metadata": {},
   "source": [
    "<b>dd</b> выдаёт следующие результаты:"
   ]
  },
  {
   "cell_type": "markdown",
   "metadata": {},
   "source": [
    "<pre>51200+0 records in\n",
    "51200+0 records out\n",
    "53687091200 bytes (54 GB) copied, 134,74 s, 398 MB/s</pre>\n"
   ]
  },
  {
   "cell_type": "markdown",
   "metadata": {},
   "source": [
    "# Проверка скорости чтения с SSD"
   ]
  },
  {
   "cell_type": "markdown",
   "metadata": {},
   "source": [
    "Опять-таки воспользуемся <b>dd</b>, только на этот раз будем копировать файл, сохранённый на диск, в <b>/dev/null</b>.<br/>\n",
    "&nbsp;&nbsp;&nbsp;&nbsp;<i>dd if=/tmp/output of=/dev/null</i><br/>\n",
    "В данном случае запись не происходит, поэтому учитывается только скорость чтения:"
   ]
  },
  {
   "cell_type": "markdown",
   "metadata": {},
   "source": [
    "<pre>104857600+0 records in\n",
    "104857600+0 records out\n",
    "53687091200 bytes (54 GB) copied, 112,967 s, 475 MB/s</pre>\n"
   ]
  },
  {
   "cell_type": "markdown",
   "metadata": {},
   "source": [
    "&nbsp;&nbsp;&nbsp;&nbsp;Таким образом, можно сделать вывод, что скорость последовательного чтения с SSD приблизительно на 20% больше, чем cкорость записи. Сравнивая с данными из статьи http://ssd.userbenchmark.com/SpeedTest/4650/SAMSUNG-SSD-SM841-25--7mm-256GB можно заметить, что скорость чтения замеряна правильно, а вот скорость записи вышла слишком большой, возможно, мне не удалось целиком побороть кеширование диска.<br/>\n",
    "&nbsp;&nbsp;&nbsp;&nbsp;С другой стороны, для других SSD разница между seq.read / seq.write может быть и порядка 10% (например, бенчмарк, приведённый в этой статье на вики https://en.wikipedia.org/wiki/Solid-state_drive)"
   ]
  },
  {
   "cell_type": "markdown",
   "metadata": {},
   "source": [
    "# Проверка скорости случайного доступа SSD"
   ]
  },
  {
   "cell_type": "markdown",
   "metadata": {},
   "source": [
    "Для этого теста я использовал утилиту bonnie++ со следующими параметрами:<br/>\n",
    "&nbsp;&nbsp;&nbsp;&nbsp;<i>mkdir tmp; bonnie++ -s 50g -n 0 -d tmp/</i><br/>\n",
    "Для визуализации я использовал:<br/>\n",
    "&nbsp;&nbsp;&nbsp;&nbsp;<i>cat bonie_output.txt | bon_csv2html > bon.html</i><br/>\n",
    "Помимо основной функции с помощью утилиты мы также сравним результаты последовательного чтения / записи с полученными в предыдущей главе"
   ]
  },
  {
   "cell_type": "markdown",
   "metadata": {
    "collapsed": true
   },
   "source": [
    "<html xmlns=\"http://www.w3.org/1999/xhtml\"><head><meta http-equiv=\"Content-Type\" content=\"text/html;charset=utf-8\" /><title>Bonnie++ Benchmark results</title><style type=\"text/css\">td.header {text-align: center; backgroundcolor: \"#CCFFFF\" }td.rowheader {text-align: center; backgroundcolor: \"#CCCFFF\" }td.size {text-align: center; backgroundcolor: \"#CCCFFF\" }td.ksec {text-align: center; fontstyle: italic }</style></head><body><table border=\"3\" cellpadding=\"2\" cellspacing=\"1\"><tr><td colspan=\"2\" class=\"header\"><font size=+1><b>Version 1.97</b></font></td><td colspan=\"6\" class=\"header\"><font size=+2><b>Sequential Output</b></font></td><td colspan=\"4\" class=\"header\"><font size=+2><b>Sequential Input</b></font></td><td colspan=\"2\" rowspan=\"2\" class=\"header\"><font size=+2><b>Random<br>Seeks</b></font></td><td colspan=\"1\" class=\"header\"></td><td colspan=\"6\" class=\"header\"><font size=+2><b>Sequential Create</b></font></td><td colspan=\"6\" class=\"header\"><font size=+2><b>Random Create</b></font></td></tr>\n",
    "<tr><td></td><td>Size</td><td colspan=\"2\">Per Char</td><td colspan=\"2\">Block</td><td colspan=\"2\">Rewrite</td><td colspan=\"2\">Per Char</td><td colspan=\"2\">Block</td><td>Num Files</td><td colspan=\"2\">Create</td><td colspan=\"2\">Read</td><td colspan=\"2\">Delete</td><td colspan=\"2\">Create</td><td colspan=\"2\">Read</td><td colspan=\"2\">Delete</td></tr><tr><td colspan=\"2\"></td><td class=\"ksec\"><font size=-2>K/sec</font></td><td class=\"ksec\"><font size=-2>% CPU</font></td><td class=\"ksec\"><font size=-2>K/sec</font></td><td class=\"ksec\"><font size=-2>% CPU</font></td><td class=\"ksec\"><font size=-2>K/sec</font></td><td class=\"ksec\"><font size=-2>% CPU</font></td><td class=\"ksec\"><font size=-2>K/sec</font></td><td class=\"ksec\"><font size=-2>% CPU</font></td><td class=\"ksec\"><font size=-2>K/sec</font></td><td class=\"ksec\"><font size=-2>% CPU</font></td><td class=\"ksec\"><font size=-2>/sec</font></td><td class=\"ksec\"><font size=-2>% CPU</font></td><td colspan=\"1\"></td><td class=\"ksec\"><font size=-2>/sec</font></td><td class=\"ksec\"><font size=-2>% CPU</font></td><td class=\"ksec\"><font size=-2>/sec</font></td><td class=\"ksec\"><font size=-2>% CPU</font></td><td class=\"ksec\"><font size=-2>/sec</font></td><td class=\"ksec\"><font size=-2>% CPU</font></td><td class=\"ksec\"><font size=-2>/sec</font></td><td class=\"ksec\"><font size=-2>% CPU</font></td><td class=\"ksec\"><font size=-2>/sec</font></td><td class=\"ksec\"><font size=-2>% CPU</font></td><td class=\"ksec\"><font size=-2>/sec</font></td><td class=\"ksec\"><font size=-2>% CPU</font></td></tr>\n",
    "<tr><td rowspan=\"2\" bgcolor=\"#FFFFFF\" class=\"rowheader\"><font size=+1>mbusel-nb-ubunru</td><td class=\"size\" bgcolor=\"#FFFFFF\">30G</td><td>1015</td><td>98</td><td>333437</td><td>31</td><td>197141</td><td>20</td><td>+++++</td><td>+++</td><td>523879</td><td>28</td><td>+++++</td><td>+++</td><td class=\"size\" bgcolor=\"#FFFFFF\">16</td><td>+++++</td><td>+++</td><td>+++++</td><td>+++</td><td>+++++</td><td>+++</td><td>+++++</td><td>+++</td><td>+++++</td><td>+++</td><td>+++++</td><td>+++</td></tr>\n",
    "<tr><td class=\"size\" bgcolor=\"#FFFFFF\" colspan=\"1\">Latency</td><td colspan=\"2\">12525us</td><td colspan=\"2\">226ms</td><td colspan=\"2\">144ms</td><td colspan=\"2\">1994us</td><td colspan=\"2\">200ms</td><td colspan=\"2\">3429us</td><td class=\"size\" bgcolor=\"#FFFFFF\" colspan=\"1\">Latency</td><td colspan=\"2\">470us</td><td colspan=\"2\">566us</td><td colspan=\"2\">304us</td><td colspan=\"2\">190us</td><td colspan=\"2\">21us</td><td colspan=\"2\">164us</td></tr>\n",
    "</table>\n",
    "</body></html>\n"
   ]
  },
  {
   "cell_type": "markdown",
   "metadata": {},
   "source": [
    "К сожалению, даже <b>50Gb</b> не хватило, чтобы получить достоверные результаты про <b>Random Seeks</b> или хотя бы по <b>Sequential Input Per Char</b> (недостоверные обозначены +++). Тем не мене можно обойтись параметром <b>\"Per char Sequential output\"</b> - 1015 К/sec дают приблизительно 1мкс на запись 1 байта, что согласуется с теорией. Теперь получим наносекундные показатели для RAM "
   ]
  },
  {
   "cell_type": "markdown",
   "metadata": {},
   "source": [
    "# Проверка характеристик RAM"
   ]
  },
  {
   "cell_type": "markdown",
   "metadata": {},
   "source": [
    "Для проверки характеристик RAM была написана следующая программка:\n",
    "    [mem_test.cpp](mem_test.cpp). Её вывод:"
   ]
  },
  {
   "cell_type": "markdown",
   "metadata": {},
   "source": [
    "<pre>Sequential read test\n",
    "Seq read is: 2.23613 ns per access\n",
    "Seq write test\n",
    "Seq write is: 1.66526 ns per access\n",
    "Rand read test\n",
    "Rand read is : 113.546 ns per access\n",
    "Rand write test\n",
    "Rand write is: 34.8815 ns per access\n",
    "</pre>\n"
   ]
  },
  {
   "cell_type": "markdown",
   "metadata": {},
   "source": [
    "Различия между read и write, особенно при Random-Access мне не очень понятны (полагаю, что скорость чтения и записи в RAM должна очень мало отличаться друг от друга), но в целом порядки соблюдены верно. При последовательном чтении у нас случается большое количество кеш-хитов, что положительно сказывается на производительности. Таким образом, скорость последовательного чтения на порядок (в моём случае, для записи получилось в 17 раз, для чтения - в 70 раз) больше, чем скорость RA. С цифрами для SSD (1мкс per access) соотносится, как величина на 3 порядка больше, что опять же, согласуется с теорией"
   ]
  },
  {
   "cell_type": "code",
   "execution_count": null,
   "metadata": {
    "collapsed": true
   },
   "outputs": [],
   "source": []
  }
 ],
 "metadata": {
  "kernelspec": {
   "display_name": "Python 3",
   "language": "python",
   "name": "python3"
  },
  "language_info": {
   "codemirror_mode": {
    "name": "ipython",
    "version": 3
   },
   "file_extension": ".py",
   "mimetype": "text/x-python",
   "name": "python",
   "nbconvert_exporter": "python",
   "pygments_lexer": "ipython3",
   "version": "3.4.3"
  }
 },
 "nbformat": 4,
 "nbformat_minor": 0
}
